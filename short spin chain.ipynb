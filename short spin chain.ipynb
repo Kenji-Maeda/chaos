{
 "cells": [
  {
   "cell_type": "code",
   "execution_count": 121,
   "metadata": {},
   "outputs": [],
   "source": [
    "import scipy\n",
    "import scipy.sparse as sparse\n",
    "import scipy.sparse.linalg as spalin\n",
    "import numpy as np\n",
    "from scipy import linalg\n",
    "import matplotlib.pyplot as plt\n",
    "\n",
    "\n",
    "def gen_s0sxsysz(L):\n",
    "    sx = sparse.csr_matrix([[0., 1.],[1., 0.]])\n",
    "    sy = sparse.csr_matrix([[0.,-1j],[1j,0.]])\n",
    "    sz = sparse.csr_matrix([[1., 0],[0, -1.]])\n",
    "    s0_list =[]\n",
    "    sx_list = []\n",
    "    sy_list = []\n",
    "    sz_list = []\n",
    "    I = sparse.eye(2**L, format='csr', dtype='complex')\n",
    "    for i_site in range(L):\n",
    "        if i_site==0:\n",
    "            X=sx\n",
    "            Y=sy\n",
    "            Z=sz\n",
    "        else:\n",
    "            X= sparse.csr_matrix(np.eye(2))\n",
    "            Y= sparse.csr_matrix(np.eye(2))\n",
    "            Z= sparse.csr_matrix(np.eye(2))\n",
    "\n",
    "        for j_site in range(1,L):\n",
    "            if j_site==i_site:\n",
    "                X=sparse.kron(X,sx, 'csr')\n",
    "                Y=sparse.kron(Y,sy, 'csr')\n",
    "                Z=sparse.kron(Z,sz, 'csr')\n",
    "            else:\n",
    "                X=sparse.kron(X,np.eye(2),'csr')\n",
    "                Y=sparse.kron(Y,np.eye(2),'csr')\n",
    "                Z=sparse.kron(Z,np.eye(2),'csr')\n",
    "        sx_list.append(X)\n",
    "        sy_list.append(Y)\n",
    "        sz_list.append(Z)\n",
    "        s0_list.append(I)\n",
    "\n",
    "    return s0_list, sx_list,sy_list,sz_list\n",
    "\n",
    "\n",
    "def gen_op_total(op_list):\n",
    "    L = len(op_list)\n",
    "    tot = op_list[0]\n",
    "    for i in range(1,L):\n",
    "        tot = tot + op_list[i]\n",
    "    return tot\n",
    "\n",
    "def gen_op_prod(op_list):\n",
    "    L= len(op_list)\n",
    "    P = op_list[0]\n",
    "    for i in range(1, L):\n",
    "        P = P*op_list[i]\n",
    "    return P\n",
    "\n",
    "def gen_interaction_kdist(op_list, op_list2=[],k=1, bc='obc'):\n",
    "    L= len(op_list)\n",
    "\n",
    "    if op_list2 ==[]:\n",
    "        op_list2=op_list\n",
    "    H = sparse.csr_matrix(op_list[0].shape)\n",
    "    Lmax = L if bc == 'pbc' else L-k\n",
    "    for i in range(Lmax):\n",
    "        H = H+ op_list[i]*op_list2[np.mod(i+k,L)]\n",
    "    return H\n",
    "\n",
    "def gen_state_bloch(thetaList, phiList):\n",
    "    L=len(thetaList)\n",
    "    psi = np.kron([np.cos(thetaList[0]/2.),np.exp(1j*phiList[0])*np.sin(thetaList[0]/2.)],\n",
    "                  [np.cos(thetaList[1]/2.),np.exp(1j*phiList[1])*np.sin(thetaList[1]/2.)])\n",
    "    for i in range(2,L):\n",
    "        psi = np.kron(psi, [np.cos(thetaList[i]/2.),np.exp(1j*phiList[i])*np.sin(thetaList[i]/2.)])\n",
    "    return psi"
   ]
  },
  {
   "cell_type": "markdown",
   "metadata": {},
   "source": [
    "We'll work with the transverse field Ising model (TFIM) with an additional longitudinal field:\n",
    "\n",
    "$H = -J \\sum_i \\sigma_i^z \\sigma_{i+1}^z + h_x\\sum_i \\sigma_i^x  + h_z \\sum_i \\sigma_i^z $\n",
    "\n",
    "We will compute the OTOC and $\\chi$ for the spin chain: \n",
    "\n",
    "$C^{\\mu\\nu}_{ij}(t) = \\frac{1}{2}<[\\sigma^{\\mu}_i(t),\\sigma^{\\nu}_j]^2> = 1-Re\\{Tr[\\sigma^{\\mu}_i(t)\\sigma^{\\nu}_j\\sigma^{\\mu}_i(t)\\sigma^{\\nu}_j]\\}/D$,\n",
    "\n",
    "where $D$ is the dimension of the Hilbert space."
   ]
  },
  {
   "cell_type": "code",
   "execution_count": 122,
   "metadata": {},
   "outputs": [],
   "source": [
    "J=1\n",
    "hz = 0\n",
    "hx = 1\n",
    "BC = 'obc'\n",
    "\n",
    "# Mixed Field Ising Model\n",
    "def MFIM(L, J = 1, hz = 1, hx = 1):\n",
    "  s0_list, sx_list,sy_list,sz_list = gen_s0sxsysz(L)\n",
    "  H = hz * sum(sz_list) + hx * sum(sx_list)\n",
    "  for i in range(L):\n",
    "    H += -J * sz_list[i] * sz_list[(i+1)%L]\n",
    "  return H"
   ]
  },
  {
   "cell_type": "code",
   "execution_count": 123,
   "metadata": {},
   "outputs": [],
   "source": [
    "# Input: mu/nu = \"1\" (sx), \"2\" (sy), \"3\" (sz), i/j ranges from 0 to L-1\n",
    "def otoc_t(L, J, hz, hx, t, mu, nu, i, k):\n",
    "  H_mat = MFIM(L, J, hz, hx)\n",
    "  H_dim = H_mat.shape[0]\n",
    "  slist = gen_s0sxsysz(L)\n",
    "  A = slist[mu][i]\n",
    "  B = slist[nu][k]\n",
    "  U = spalin.expm(-1j * H_mat * t) # Compute the time evolution operator U(t) = exp(-i * H * t)\n",
    "  U_dag = U.getH()  # Compute the Hermitian (conjugate) transpose of U # getH() works for sparse matrices\n",
    "  S_i_t = U_dag @ A @ U  # Compute the time-evolved operator S_i(t)\n",
    "  product = S_i_t @ B @ S_i_t @ B  # Compute the product S_i(t) S_j S_i(t) S_j\n",
    "  otoc = 1-product.diagonal().sum()/H_dim   # Compute the trace of the product:\n",
    "  \n",
    "  return otoc\n",
    "  # s0_list, sx_list,sy_list,sz_list = gen_s0sxsysz(L)\n",
    "  # for i in range(0, L):\n",
    "  #   for k in range(0, L):\n",
    "  #       A = sz_list[i]\n",
    "  #       B = sz_list[k]\n",
    "  #       U = spalin.expm(-1j * H_mat * t) # Compute the time evolution operator U(t) = exp(-i * H * t)\n",
    "  #       U_dag = U.getH()  # Compute the Hermitian (conjugate) transpose of U # getH() works for sparse matrices\n",
    "  #       S_i_t = U_dag @ A @ U  # Compute the time-evolved operator S_i(t)\n",
    "  #       product = S_i_t @ B @ S_i_t @ B  # Compute the product S_i(t) S_j S_i(t) S_j\n",
    "  #       C_mat[i,k] = 1-product.diagonal().sum()/H_dim   # Compute the trace of the product:\n",
    "  # return C_mat\n",
    "\n",
    "\n",
    "\n",
    "def get_χ(otoc_list, tlist, te):\n",
    "    ts = np.argmax(otoc_list[:50])\n",
    "    time_window = otoc_list[ts:int(te/(tlist[1]-tlist[0]))]\n",
    "    otoc_norm = otoc_list/np.mean(time_window)\n",
    "    std = np.sqrt(np.mean((time_window/np.mean(time_window))**2)-1)\n",
    "    \n",
    "    return otoc_norm, std"
   ]
  },
  {
   "cell_type": "code",
   "execution_count": 124,
   "metadata": {},
   "outputs": [
    {
     "name": "stderr",
     "output_type": "stream",
     "text": [
      "c:\\Users\\Huai\\AppData\\Local\\Programs\\Python\\Python39\\lib\\site-packages\\scipy\\sparse\\linalg\\_dsolve\\linsolve.py:394: SparseEfficiencyWarning: splu converted its input to CSC format\n",
      "  warn('splu converted its input to CSC format', SparseEfficiencyWarning)\n",
      "c:\\Users\\Huai\\AppData\\Local\\Programs\\Python\\Python39\\lib\\site-packages\\scipy\\sparse\\linalg\\_dsolve\\linsolve.py:285: SparseEfficiencyWarning: spsolve is more efficient when sparse b is in the CSC matrix format\n",
      "  warn('spsolve is more efficient when sparse b '\n",
      "C:\\Users\\Huai\\AppData\\Local\\Temp\\ipykernel_16432\\604503206.py:10: ComplexWarning: Casting complex values to real discards the imaginary part\n",
      "  c_test[i] = otoc_t(L,J,hz,hx,t,3,1,0,3)\n"
     ]
    }
   ],
   "source": [
    "L = 4\n",
    "Nt = 100\n",
    "t_end = 25\n",
    "J=1\n",
    "hx = 1\n",
    "hz = 0\n",
    "c_test = np.zeros(Nt) \n",
    "tlist = np.linspace(0,t_end,Nt)\n",
    "for i, t in enumerate(tlist):\n",
    "    c_test[i] = otoc_t(L,J,hz,hx,t,3,1,0,3)\n",
    "\n"
   ]
  },
  {
   "cell_type": "code",
   "execution_count": 125,
   "metadata": {},
   "outputs": [
    {
     "data": {
      "text/plain": [
       "<matplotlib.legend.Legend at 0x264433267c0>"
      ]
     },
     "execution_count": 125,
     "metadata": {},
     "output_type": "execute_result"
    },
    {
     "data": {
      "image/png": "[encoded data removed]",
      "text/plain": [
       "<Figure size 800x400 with 1 Axes>"
      ]
     },
     "metadata": {},
     "output_type": "display_data"
    }
   ],
   "source": [
    "te = 20\n",
    "otoc_t, std = get_χ(c_test, tlist, te)\n",
    "\n",
    "\n",
    "plt.figure(figsize=(8,4))\n",
    "plt.plot(tlist,otoc_t, label = f'L = {L}, hz = {hz}')\n",
    "plt.axhline(y=1, color='black', linestyle='--')\n",
    "plt.xlabel('$t$')\n",
    "plt.ylabel('$C^{zx}_{0,3} $')\n",
    "plt.legend()\n",
    "# te = 20\n",
    "# ts = np.argmax(c_test[:50])\n",
    "# time_window = c_test[ts:int(te/(tlist[1]-tlist[0]))]\n",
    "# otoc_norm = c_test/np.mean(time_window)\n",
    "# std = np.sqrt(np.mean((time_window/np.mean(time_window))**2)-1)\n",
    "# print(std)\n"
   ]
  },
  {
   "cell_type": "code",
   "execution_count": null,
   "metadata": {},
   "outputs": [],
   "source": [
    "L = 4\n",
    "Nt = 500\n",
    "tstep = 0.05\n",
    "J=1\n",
    "hx = 1\n",
    "hz = 0.5\n",
    "c_zx03_05 = np.zeros(Nt) \n",
    "tlist = np.zeros(Nt)\n",
    "for i in range(Nt):\n",
    "    cmat = otoc_t(L,J,hz,hx,i*tstep)\n",
    "    tlist[i] = i*tstep\n",
    "    c_zx03_05[i] = cmat[0,3]\n",
    "\n"
   ]
  },
  {
   "cell_type": "code",
   "execution_count": null,
   "metadata": {},
   "outputs": [],
   "source": [
    "te=20\n",
    "ts = np.argmax(c_zx03_05[:50])\n",
    "time_window_05 = c_zx03_05[ts:int(te/tstep)]\n",
    "otoc_norm_05 = c_zx03_05/np.mean(time_window_05)\n",
    "std_05 = np.sqrt(np.mean(otoc_norm_05**2)-1)\n",
    "print(std_05)\n",
    "\n",
    "plt.figure(figsize=(8,4))\n",
    "plt.plot(tlist,otoc_norm_05, label = f'L = {L}, hz = {hz}')\n",
    "plt.axhline(y=1, color='black', linestyle='--')\n",
    "plt.xlabel('$t$')\n",
    "plt.ylabel('$C^{zx}_{0,3} $')\n",
    "plt.legend()"
   ]
  },
  {
   "cell_type": "code",
   "execution_count": null,
   "metadata": {},
   "outputs": [],
   "source": []
  }
 ],
 "metadata": {
  "kernelspec": {
   "display_name": "Python 3",
   "language": "python",
   "name": "python3"
  },
  "language_info": {
   "codemirror_mode": {
    "name": "ipython",
    "version": 3
   },
   "file_extension": ".py",
   "mimetype": "text/x-python",
   "name": "python",
   "nbconvert_exporter": "python",
   "pygments_lexer": "ipython3",
   "version": "3.9.5"
  }
 },
 "nbformat": 4,
 "nbformat_minor": 2
}
