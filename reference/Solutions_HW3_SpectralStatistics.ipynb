{
  "nbformat": 4,
  "nbformat_minor": 0,
  "metadata": {
    "colab": {
      "provenance": [],
      "collapsed_sections": [
        "4ZIkYee2yoXb"
      ]
    },
    "kernelspec": {
      "name": "python3",
      "display_name": "Python 3"
    },
    "language_info": {
      "name": "python"
    }
  },
  "cells": [
    {
      "cell_type": "markdown",
      "metadata": {
        "id": "rmltxGIWu4r1"
      },
      "source": [
        "## Useful Functions ##"
      ]
    },
    {
      "cell_type": "code",
      "metadata": {
        "id": "7vmF70uKyoXN"
      },
      "source": [
        "import scipy\n",
        "import scipy.sparse as sparse\n",
        "import scipy.sparse.linalg as spalin\n",
        "import numpy as np\n",
        "from scipy import linalg\n",
        "import matplotlib.pyplot as plt\n",
        "\n",
        "\n",
        "def gen_s0sxsysz(L):\n",
        "    sx = sparse.csr_matrix([[0., 1.],[1., 0.]])\n",
        "    sy = sparse.csr_matrix([[0.,-1j],[1j,0.]])\n",
        "    sz = sparse.csr_matrix([[1., 0],[0, -1.]])\n",
        "    s0_list =[]\n",
        "    sx_list = []\n",
        "    sy_list = []\n",
        "    sz_list = []\n",
        "    I = sparse.eye(2**L, format='csr', dtype='complex')\n",
        "    for i_site in range(L):\n",
        "        if i_site==0:\n",
        "            X=sx\n",
        "            Y=sy\n",
        "            Z=sz\n",
        "        else:\n",
        "            X= sparse.csr_matrix(np.eye(2))\n",
        "            Y= sparse.csr_matrix(np.eye(2))\n",
        "            Z= sparse.csr_matrix(np.eye(2))\n",
        "\n",
        "        for j_site in range(1,L):\n",
        "            if j_site==i_site:\n",
        "                X=sparse.kron(X,sx, 'csr')\n",
        "                Y=sparse.kron(Y,sy, 'csr')\n",
        "                Z=sparse.kron(Z,sz, 'csr')\n",
        "            else:\n",
        "                X=sparse.kron(X,np.eye(2),'csr')\n",
        "                Y=sparse.kron(Y,np.eye(2),'csr')\n",
        "                Z=sparse.kron(Z,np.eye(2),'csr')\n",
        "        sx_list.append(X)\n",
        "        sy_list.append(Y)\n",
        "        sz_list.append(Z)\n",
        "        s0_list.append(I)\n",
        "\n",
        "    return s0_list, sx_list,sy_list,sz_list\n",
        "\n",
        "\n",
        "def gen_op_total(op_list):\n",
        "    L = len(op_list)\n",
        "    tot = op_list[0]\n",
        "    for i in range(1,L):\n",
        "        tot = tot + op_list[i]\n",
        "    return tot\n",
        "\n",
        "def gen_op_prod(op_list):\n",
        "    L= len(op_list)\n",
        "    P = op_list[0]\n",
        "    for i in range(1, L):\n",
        "        P = P*op_list[i]\n",
        "    return P\n",
        "\n",
        "def gen_interaction_kdist(op_list, op_list2=[],k=1, bc='obc'):\n",
        "    L= len(op_list)\n",
        "\n",
        "    if op_list2 ==[]:\n",
        "        op_list2=op_list\n",
        "    H = sparse.csr_matrix(op_list[0].shape)\n",
        "    Lmax = L if bc == 'pbc' else L-k\n",
        "    for i in range(Lmax):\n",
        "        H = H+ op_list[i]*op_list2[np.mod(i+k,L)]\n",
        "    return H\n",
        "\n",
        "def gen_state_bloch(thetaList, phiList):\n",
        "    L=len(thetaList)\n",
        "    psi = np.kron([np.cos(thetaList[0]/2.),np.exp(1j*phiList[0])*np.sin(thetaList[0]/2.)],\n",
        "                  [np.cos(thetaList[1]/2.),np.exp(1j*phiList[1])*np.sin(thetaList[1]/2.)])\n",
        "    for i in range(2,L):\n",
        "        psi = np.kron(psi, [np.cos(thetaList[i]/2.),np.exp(1j*phiList[i])*np.sin(thetaList[i]/2.)])\n",
        "    return psi"
      ],
      "execution_count": null,
      "outputs": []
    },
    {
      "cell_type": "markdown",
      "metadata": {
        "id": "4ZIkYee2yoXb"
      },
      "source": [
        "## Question 1: Random Matrices  [25 pts] ##"
      ]
    },
    {
      "cell_type": "markdown",
      "metadata": {
        "id": "w63IRQ6dVqeT"
      },
      "source": [
        "A longstanding problem in quantum dynamics involves finding quantum analogs of classical concepts such as “chaos” and “ergodicity”. In classical dynamical systems, non-linear equations of motion can lead to chaotic trajectories that ergodically explore all of phase space. In this context, chaos means that trajectories display an exquisite sensitivity so that small differences in initial conditions get amplified in time exponentially at a rate set by a ‘Lyapunov exponent’ $\\lambda$ – a manifestation of the so-called ‘butterfly effect’.\n",
        "\n",
        "In contrast, quantum systems are governed by Schrodinger’s equation, which is linear, and hence cannot give rise to the kind of chaotic dynamics responsible for classical ergodicity. Under unitary evolution, the ‘distance’ between different time-evolving wavefunctions (measured, for instance, via the overlap) remains constant in time. Thus, new measures are needed to characterize chaos. One such measure that has been used to great effect is furnished by studying the eigenspectrum statistics of quantum systems with bounded spectra. The quantum chaos conjecture posits that the statistics of eigenspectra in chaotic Hamiltonians is universal and described by random matrix theory (RMT).\n",
        "\n",
        "In the 1950's, Wigner introduced the idea of using RMT to describe the spectra of complex heavy atomic nuclei. In the decades since, the connection between chaos and RMT has been put on firm footing for single-particle systems in a semi-classical limit (Berry; Bohigas, Gianni, Schmit..).\n",
        "\n",
        "In contrast, the emergence of RMT in many-body strongly quantum systems far from any semiclassical limit is still an active area of inquiry (some results on this for special models only within the last 2-3 years). It is truly remarkable that a sparse non-random matrix representing a physical, local Hamiltonian can share universal spectral properties with dense, random matrices."
      ]
    },
    {
      "cell_type": "markdown",
      "metadata": {
        "id": "iq5rMM4YsuKE"
      },
      "source": [
        "\n",
        "While one can look at many different features to probe random matrix eigenspectra, one common measure is to look at the distribution of energy differences between nearest-neighbor-in-energy eigenstates. This is a probe of `level repulsion' in the system. The first task at hand is to understand the distributions of level spacings.\n",
        "\n",
        "According to the Wigner surmise, we only need to study 2x2 matrices in the right `symmetry class' to obtain distributions that will also apply (to a good approximation) to large $NxN$ random matrices.\n",
        "\n",
        "Let's start by looking at the distribution of level spacings for a 2x2 real, symmetric Hamiltonian with matrix elements drawn from the Gaussian ensemble (\"GOE = Gaussian Orthogonal Ensemble\"). The normalized distrubutions of level spacings takes the form:\n",
        "$P(s) = a_\\beta s^\\beta e^{-b_\\beta s^2}$ where $a_\\beta, b_\\beta$ are constants and $\\beta = 1 \\;(GOE),\\; 2 \\;(GUE)$. These constants are chosen to ensure two conditions:\n",
        "\n",
        "\n",
        "\n",
        "*   the distribution is normalized: $\\int_0^\\infty ds P(s) = 1$ and  \n",
        "*   the average level spacing is 1: $\\langle s \\rangle = \\int_0^\\infty ds\\; s P(s) = 1$. (the discussion on spectral unfolding below discusses why this is done).\n",
        "\n",
        "\n"
      ]
    },
    {
      "cell_type": "markdown",
      "metadata": {
        "id": "LJW1GMl5JUMA"
      },
      "source": [
        "a) The constants are $\\{a_1 = \\pi/2, b_1 = \\pi/4\\}$ for GOE and $\\{a_2 = 32/\\pi^2, b_2 = 4/\\pi\\}$ for GUE. Verify by explicit integration that the normalization and $\\langle s \\rangle =1$ conditions are satisfied for both the GOE and GUE distributions. [2pts]"
      ]
    },
    {
      "cell_type": "markdown",
      "source": [
        "**1a.**"
      ],
      "metadata": {
        "id": "2z-9e9eO2zny"
      }
    },
    {
      "cell_type": "markdown",
      "source": [
        "First we check GOE.\n",
        "\n",
        "$\\int_0^{\\infty} ds \\frac{\\pi}{2} s e^{-\\frac{\\pi}{4} s^2}$.\n",
        "\n",
        "Let $ u = \\frac{\\pi}{4} s^2 , du = \\frac{\\pi}{2}s ds$. Then, $\\int_0^{\\infty} ds \\frac{\\pi}{2} s e^{-\\frac{\\pi}{4} s^2} = \\int_0^{\\infty} du e^{-u} = -e^{-u}|_0^{\\infty} = 1$.\n",
        "\n",
        "$\\langle s \\rangle = \\int_0^{\\infty} ds \\frac{\\pi}{2} s^2 e^{-\\frac{\\pi}{4} s^2}$.\n",
        "\n",
        "Integrating by parts, set $u = s$, $dv = \\frac{\\pi}{2} s e^{-\\pi /4 s^2} $, $v = -e^{-\\pi /4 s^2}$. The integral becomes\n",
        "\n",
        "$\\int_0^{\\infty} ds \\frac{\\pi}{2} s^2 e^{-\\frac{\\pi}{4} s^2} = -se^{-\\pi /4 s^2}|_0^{\\infty} + \\int_0^{\\infty} e^{-\\pi /4 s^2} ds = \\int_0^{\\infty} e^{-\\pi /4 s^2} ds = 1$.\n",
        "\n",
        "Next, we check GUE.\n",
        "\n",
        "$\\int_0^{\\infty} ds \\frac{32}{\\pi^2} s^2 e^{-\\frac{4}{\\pi} s^2}$.\n",
        "\n",
        "We can do this using integration by parts again. Set $u = s, dv = \\frac{32}{\\pi^2} s e^{-\\frac{4}{\\pi} s^2}, v = -\\frac{4}{\\pi} e^{-\\frac{4}{\\pi} s^2}$. The integral becomes\n",
        "\n",
        "$\\int_0^{\\infty} ds \\frac{32}{\\pi^2} s^2 e^{-\\frac{4}{\\pi} s^2} = -\\frac{4}{\\pi}s e^{-\\frac{4}{\\pi} s^2} |_0^{\\infty} + \\int_0^∞ \\frac{4}{\\pi} e^{-\\frac{4}{\\pi} s^2} ds = \\int_0^∞ \\frac{4}{\\pi} e^{-\\frac{4}{\\pi} s^2} ds = \\frac{4}{\\pi}\\frac{\\pi}{4} = 1$.\n",
        "\n",
        "$⟨s ⟩ = \\int_0^{\\infty} ds \\frac{32}{\\pi^2} s^3 e^{-\\frac{4}{\\pi} s^2}$.\n",
        "\n",
        "Here we can use $u = s^2, du = 2s ds$. Substituting in, we get\n",
        "\n",
        "$⟨s ⟩ = \\int_0^{\\infty} \\frac{16}{\\pi^2} u  e^{-\\frac{4}{\\pi} u} du$.\n",
        "\n",
        "A round of by parts integration yields\n",
        "\n",
        "$\\int \\frac{4}{\\pi} e^{-\\frac{4}{\\pi} u} du = 1$.\n",
        "\n"
      ],
      "metadata": {
        "id": "YBtfBDYOJiNW"
      }
    },
    {
      "cell_type": "markdown",
      "metadata": {
        "id": "byShNVzSf-uT"
      },
      "source": [
        "\n",
        "b) Generate $2x2$ random matrices drawn from the GOE ensemble. Compute the eigenvalues $\\epsilon_1, \\epsilon_2$ and the spacing $s = \\epsilon_2 - \\epsilon_1$. Do this for many samples, say $M=3000$ and plot the normalized histogram of $s$ across these samples. The function plt.hist with argument `density = True' is helpful.\n",
        "Compare against the analytic prediction for $P(s)$ by plotting $P(s)$ on the same plot as the histogram. **Remember that $\\langle s \\rangle = 1$ for $P(s)$ so you  need to divide your list of spacings by the average before histogramming to get agreement**.  [4pts]"
      ]
    },
    {
      "cell_type": "markdown",
      "source": [
        "**1b.**"
      ],
      "metadata": {
        "id": "lNudbveK22g4"
      }
    },
    {
      "cell_type": "markdown",
      "source": [
        "$n\\times n$ GOE random matrices can be generated by $H = (G + G^T)/\\sqrt{n}$ where $G$ is an $n\\times n$ matrix populated by i.i.d numbers drawn from a Gaussian distribution."
      ],
      "metadata": {
        "id": "nIs7C0aRsp2C"
      }
    },
    {
      "cell_type": "code",
      "source": [
        "np.random.normal(size = (2,2))"
      ],
      "metadata": {
        "colab": {
          "base_uri": "https://localhost:8080/"
        },
        "id": "RLSBvoxdtUow",
        "outputId": "34b15b39-e8d2-423d-d056-cfcd88348259"
      },
      "execution_count": null,
      "outputs": [
        {
          "output_type": "execute_result",
          "data": {
            "text/plain": [
              "array([[ 0.64416166, -0.20157577],\n",
              "       [ 0.51204702,  0.0265591 ]])"
            ]
          },
          "metadata": {},
          "execution_count": 5
        }
      ]
    },
    {
      "cell_type": "code",
      "source": [
        "def level_spacing_GOE():\n",
        "  G = np.random.normal(size = (2,2))\n",
        "  H = (G + G.T) / np.sqrt(2)\n",
        "  eigvals = np.linalg.eig(H)[0]\n",
        "  return abs(eigvals[1] - eigvals[0])\n",
        "\n",
        "spacings = np.array([level_spacing_GOE() for i in range(3000)])\n",
        "spacings = spacings / np.average(spacings)"
      ],
      "metadata": {
        "id": "t-J9lvqPsovq"
      },
      "execution_count": null,
      "outputs": []
    },
    {
      "cell_type": "code",
      "source": [
        "plt.figure(figsize=(8,8))\n",
        "plt.hist(spacings, density = True, bins = 50);\n",
        "srange = np.linspace(0,5,100)\n",
        "def GOE_prob(s):\n",
        "  return (np.pi / 2) * s * np.exp(-(np.pi / 4) * s**2)\n",
        "\n",
        "GOE_probabilities  = [GOE_prob(s) for s in srange]\n",
        "plt.plot(srange, GOE_probabilities)\n",
        "plt.ylabel('$P(s)$')\n",
        "plt.xlabel('$s$')"
      ],
      "metadata": {
        "colab": {
          "base_uri": "https://localhost:8080/",
          "height": 713
        },
        "id": "6I2b2lLxt-WZ",
        "outputId": "19936cad-8c39-4c0d-c81b-241f5c9c1e3f"
      },
      "execution_count": null,
      "outputs": [
        {
          "output_type": "execute_result",
          "data": {
            "text/plain": [
              "Text(0.5, 0, '$s$')"
            ]
          },
          "metadata": {},
          "execution_count": 15
        },
        {
          "output_type": "display_data",
          "data": {
            "text/plain": [
              "<Figure size 800x800 with 1 Axes>"
            ],
            "image/png": "[encoded data removed]"
          },
          "metadata": {}
        }
      ]
    },
    {
      "cell_type": "markdown",
      "metadata": {
        "id": "fs5PEo6TyoXk"
      },
      "source": [
        "Now let us look at the spectrum of a large $NxN$ random matrix, again drawn from the GOE ensemble. We will see how the distrubution of level spacings agrees remarkably well with the 2x2 answer! Pick $N = 3000$, create a $NxN$ random GOE matrix and obtain its eigenvalues.\n",
        "\n",
        "(c) Plot the histogram of eigenvalues (i.e. DOS). This should display the Wigner semicircle shape. [2pts]\n",
        "\n",
        "(d) Choose the middle third of the eigenvalues, obtain the spacings between the eigenvalues and divide by the average spacing so that $\\langle s \\rangle$ =1. Plot a normalized histogram of these spacings, and superpose the Wigner surmise prediction obtain for $2x2$ matrices. [2pts]"
      ]
    },
    {
      "cell_type": "markdown",
      "source": [
        "**1c.**"
      ],
      "metadata": {
        "id": "d-4yQb-P243E"
      }
    },
    {
      "cell_type": "code",
      "source": [
        "N = 3000\n",
        "G = np.random.normal(size = (N,N))\n",
        "H = (G + G.T) / np.sqrt(N)\n",
        "eigvals = np.linalg.eigvalsh(H)"
      ],
      "metadata": {
        "id": "kJBQ5YP926Xt"
      },
      "execution_count": null,
      "outputs": []
    },
    {
      "cell_type": "code",
      "source": [
        "plt.figure(figsize=(8,8))\n",
        "plt.hist(eigvals, bins = 50, density = True);\n",
        "plt.xlabel('$\\epsilon$')\n",
        "plt.ylabel('$P(\\epsilon)$')"
      ],
      "metadata": {
        "colab": {
          "base_uri": "https://localhost:8080/",
          "height": 713
        },
        "id": "u0nvlhZY3Na4",
        "outputId": "125631df-b6c6-49f3-e01f-fcc4dc2e57b8"
      },
      "execution_count": null,
      "outputs": [
        {
          "output_type": "execute_result",
          "data": {
            "text/plain": [
              "Text(0, 0.5, '$P(\\\\epsilon)$')"
            ]
          },
          "metadata": {},
          "execution_count": 21
        },
        {
          "output_type": "display_data",
          "data": {
            "text/plain": [
              "<Figure size 800x800 with 1 Axes>"
            ],
            "image/png": "[encoded data removed]"
          },
          "metadata": {}
        }
      ]
    },
    {
      "cell_type": "markdown",
      "source": [
        "**1d.**"
      ],
      "metadata": {
        "id": "hZ7F-WzN3j3N"
      }
    },
    {
      "cell_type": "code",
      "source": [
        "plt.figure(figsize=(8,8))\n",
        "spacings = np.array([eigvals[i+1] - eigvals[i] for i in range(N//3, 2*N//3)])\n",
        "spacings /= np.average(spacings)\n",
        "\n",
        "plt.hist(spacings, density = True, bins = 20);\n",
        "\n",
        "srange = np.linspace(0,5,100)\n",
        "def GOE_prob(s):\n",
        "  return (np.pi / 2) * s * np.exp(-(np.pi / 4) * s**2)\n",
        "\n",
        "GOE_probabilities  = [GOE_prob(s) for s in srange]\n",
        "plt.plot(srange, GOE_probabilities)\n",
        "plt.ylabel('$P(s)$')\n",
        "plt.xlabel('$s$')\n"
      ],
      "metadata": {
        "colab": {
          "base_uri": "https://localhost:8080/",
          "height": 713
        },
        "id": "rLkHIY084SLd",
        "outputId": "20301a66-ff4c-4fe1-cd9f-44c3265ca3a9"
      },
      "execution_count": null,
      "outputs": [
        {
          "output_type": "execute_result",
          "data": {
            "text/plain": [
              "Text(0.5, 0, '$s$')"
            ]
          },
          "metadata": {},
          "execution_count": 23
        },
        {
          "output_type": "display_data",
          "data": {
            "text/plain": [
              "<Figure size 800x800 with 1 Axes>"
            ],
            "image/png": "[encoded data removed]"
          },
          "metadata": {}
        }
      ]
    },
    {
      "cell_type": "markdown",
      "source": [
        "Good agreement!"
      ],
      "metadata": {
        "id": "tqcOjFG44-H4"
      }
    },
    {
      "cell_type": "markdown",
      "metadata": {
        "id": "3xdklIjrbK6X"
      },
      "source": [
        "One annoying technicality in all studies of RMT is the need for `spectral unfolding'. We want to compare energy spacing distributions across different models to search for universality. This requires specific details to be removed (such as dependences on system size, energy density etc.), so that the average level spacing is unity. In practice, prescriptions for unfolding can be quite ad-hoc and results sometimes end up being sensitive to the prescription used. We used a \"poor man's\" unfolding prescription above when we divided by $\\langle s \\rangle$, but there are entire PhD theses written on unfolding prescriptions!\n",
        "\n",
        "\n",
        "\n",
        "To circumvent this issue, it is often convenient to use a different measure called the r-ratio, introduced by Oganesyan and Huse, which is the ratio of consecutive energy-level spacings:\n",
        "$\\tilde{r_n} = \\frac{{\\rm min} \\{s_n, s_{n-1}\\}}{{\\rm max} \\{s_n, s_{n-1}\\}} $. By taking the ratio of consecutive spacings, overall scales get modded out.\n",
        "\n",
        "Useful Reference: Atas et. al., \"The distribution of the ratio of consecutive level spacings in random matrix ensembles\", https://arxiv.org/pdf/1212.5611.pdf.\n",
        "\n",
        "(e) Obtain the distributions of $\\tilde{r}$ for 3x3 and $NxN$ random matrices drawn from the GOE ensemble, and compare against the analytic prediction in Atas et. al. Note that you need 3x3 matrices because you need two spacings and hence three eigenvalues. [5pts]\n",
        "\n",
        "\n",
        "(f) Analytically derive the distributions of level spacings for 2x2 GOE random matrices (i.e. the Wigner surmise). Hint: the entries of the matrix are drawn from Gaussian normal distributions, and the distributions of eigenvalues can be obtained via a suitable change of basis and the accompanying Jacobian. [5pts]\n",
        "\n",
        "(g) Following Atas et. al., analytically derive the distribution of $\\tilde{r}$ for the GOE ensemble (this is a generalization of the Wigner surmise which requires you to consider 3x3 matrices). [5pts]\n",
        "\n",
        "\n"
      ]
    },
    {
      "cell_type": "markdown",
      "source": [
        "**1e.**"
      ],
      "metadata": {
        "id": "MImmRw4FDzje"
      }
    },
    {
      "cell_type": "code",
      "source": [
        "plt.figure(figsize=(8,8))\n",
        "\n",
        "def r_ratio_3x3():\n",
        "  G = np.random.normal(size = (3,3))\n",
        "  H = (G + G.T) / np.sqrt(3)\n",
        "\n",
        "  eigvals = np.linalg.eigvalsh(H)\n",
        "  spacing = [eigvals[1] - eigvals[0], eigvals[2] - eigvals[1]]\n",
        "  return min(spacing) / max(spacing)\n",
        "\n",
        "\n",
        "GOE_ratio_3x3 = [r_ratio_3x3() for i in range(5000)]\n",
        "plt.hist(GOE_ratio_3x3, bins = 25, density = True)\n",
        "\n",
        "rrange = np.linspace(0,1,100)\n",
        "def func(r):\n",
        "  return 2 * (27 / 8) * ( (r + r**2) / ((1 + r + r**2)**(5/2)) )\n",
        "\n",
        "plt.plot(rrange, [func(r) for r in rrange])\n",
        "plt.xlabel('$r$')\n",
        "plt.ylabel('$P(r)$')"
      ],
      "metadata": {
        "colab": {
          "base_uri": "https://localhost:8080/",
          "height": 713
        },
        "id": "S-yBZzIAD19S",
        "outputId": "0bb7a943-bc55-400e-d96d-db346876b107"
      },
      "execution_count": null,
      "outputs": [
        {
          "output_type": "execute_result",
          "data": {
            "text/plain": [
              "Text(0, 0.5, '$P(r)$')"
            ]
          },
          "metadata": {},
          "execution_count": 27
        },
        {
          "output_type": "display_data",
          "data": {
            "text/plain": [
              "<Figure size 800x800 with 1 Axes>"
            ],
            "image/png": "[encoded data removed]"
          },
          "metadata": {}
        }
      ]
    },
    {
      "cell_type": "markdown",
      "source": [
        "**1f.**"
      ],
      "metadata": {
        "id": "xIa-GysVtpiG"
      }
    },
    {
      "cell_type": "markdown",
      "source": [
        "Since we have a 2x2 random symmetric matrix, we know the probability distribution of each of the elements. In order to obtain the probability distribution for the level spacing, we need to sum over every possible value of the matrix elements, weighted by their probability, subject to the constraint that they produce a given level spacing $s$. And then this is normalized. This amounts to integrating over the joint probability distribution of all $a,b,c$ where $a,b,c$ are the matrix elements, as long as a given $a,b,c$ produces an $s$. This amounts to a delta function in the integral.\n",
        "\n",
        "Given: $H = \\begin{pmatrix} a & b \\\\ b & c \\end{pmatrix}$\n",
        "\n",
        "$P(s) = \\frac{1}{N}\\int da\\: db\\: dc\\:  \\delta(\\sqrt{a^2 -2ac+c^2+4b^2} - s)e^{-\\frac{1}{2}(a^2+c^2+2b^2)} \\\\\n",
        "r \\cos\\theta = a-c,\\: r\\sin\\theta = 2b, \\: \\phi = a+c \\\\\n",
        "a = \\frac{r \\cos \\theta + \\phi}{2},\\: b = \\frac{r \\sin \\theta}{2}, \\: c = \\frac{\\phi - r \\cos \\theta}{2}\\\\\n",
        "J = \\begin{bmatrix} (\\cos \\theta )/2 & -r \\sin \\theta / 2 & 1/2 \\\\ (\\sin \\theta )/2 & r \\cos \\theta/2 & 0 \\\\ -(\\cos \\theta )/2 & r \\sin \\theta / 2 & 1/2 \\end{bmatrix} \\\\\n",
        "\\text{det} J = r / 4 \\\\\n",
        "P(s) = \\frac{1}{N}\\int \\frac{r}{4}dr\\: d\\theta \\: d\\phi\\:  \\delta(\\sqrt{r^2 \\cos ^2 \\theta +r^2\\sin^2 \\theta} - s)\\exp{\\left[-\\frac{1}{2}(\\frac{1}{4}(r\\cos \\theta + \\phi)^2+\\frac{1}{4}(-r\\cos \\theta + \\phi)^2+\\frac{1}{2}(r\\sin \\theta)^2) \\right] } \\\\\n",
        "= \\frac{1}{N}\\int \\frac{r}{4}dr\\: d\\theta \\: d\\phi\\:  \\delta(\\sqrt{r^2 \\cos ^2 \\theta +r^2\\sin^2 \\theta} - s)\\exp{\\left[-\\frac{1}{2}(\\frac{1}{4}(r\\cos \\theta + \\phi)^2+\\frac{1}{4}(-r\\cos \\theta + \\phi)^2+\\frac{1}{2}(r\\sin \\theta)^2) \\right] } \\\\\n",
        "= \\frac{1}{N}\\int \\frac{r}{4}dr\\: d\\theta \\: d\\phi\\:  \\delta(\\pm r - s)\\exp{\\left[-\\frac{1}{2}(\\frac{1}{4}(r\\cos \\theta + \\phi)^2+\\frac{1}{4}(-r\\cos \\theta + \\phi)^2+\\frac{1}{2}(r\\sin \\theta)^2) \\right] }  \\\\\n",
        "= \\frac{1}{N}\\int \\frac{s}{2}d\\theta \\: d\\phi\\:  \\exp{\\left[-\\frac{1}{2}(\\frac{1}{4}(s\\cos \\theta + \\phi)^2+\\frac{1}{4}(-s\\cos \\theta + \\phi)^2+\\frac{1}{2}(s\\sin \\theta)^2) \\right] }  \\\\\n",
        "= \\frac{1}{N}\\int \\frac{s}{2}d\\theta \\: d\\phi\\:  \\exp{\\left[-\\frac{1}{2}(\\frac{1}{2} s^2 \\cos^2 \\theta + \\frac{1}{2} \\phi^2 + \\frac{1}{2}s^2\\sin^2\\theta) \\right] } \\\\\n",
        "= \\frac{1}{N}\\int \\frac{s}{2}d\\theta \\: d\\phi\\:  \\exp{\\left[-\\frac{1}{4}(s^2  + \\phi^2 ) \\right] } \\\\\n",
        "= \\frac{s}{N} e^{-s^2/4}$\n",
        "\n",
        "I just absorbed all constants into the normalization.\n",
        "\n",
        "$\\int_0^{∞} P(s) ds = \\int_0^{∞} \\frac{s}{N} e^{-s^2/4} ds \\frac{2}{N} = 1$ \\\\\n",
        "$P(s) =\\frac{s}{2} e^{-s^2/4}$"
      ],
      "metadata": {
        "id": "6UTWt5AItjEC"
      }
    },
    {
      "cell_type": "markdown",
      "source": [
        "**1g.**"
      ],
      "metadata": {
        "id": "srDjl3ShtsdH"
      }
    },
    {
      "cell_type": "markdown",
      "source": [
        "$P(r) = \\int de_1 \\: de_2 \\: de_3 \\: \\rho(e_1,e_2,e_3) \\delta \\left(s - \\frac{e_3-e_2}{e_2-e_1} \\right) \\\\\n",
        "=  \\int de_1 \\: de_2 \\: de_3 \\: (e_3-e_2)(e_2-e_1) \\exp{\\left[ -1 / 2(e_1^2 + e_2^2 + e_3^2) \\right]} \\delta \\left(r - \\frac{e_3-e_2}{e_2-e_1} \\right) \\\\\n",
        "x = e_2 - e_1, \\: y = e_3 - e_2 \\\\\n",
        "=  \\int dx \\: dy \\: x^2 y (x+y) \\exp{\\left[ -1 / 2(x^2+y^2) + 1/6(x-y)^2 \\right]} \\delta \\left(rx - y \\right) \\\\\n",
        "\\int dx \\: x^4 r (r+1) \\exp{\\left[ -1 / 2(1+r^2)x^2 + 1/6(1-r)^2x^2 \\right]} \\\\\n",
        "= N \\frac{r(r+1)}{(1+r+r^2)^{5/2}} \\\\\n",
        "\\int_0^{∞} dr P(r) = N (8 / 27) = 1 \\\\\n",
        "P(r) = \\frac{27}{8} \\frac{r(r+1)}{(1+r+r^2)^{5/2}}$\n",
        "\n",
        "However, we need the $r̃$ distribution. Note that $r̃ = r \\Theta(r - 1) + \\frac{1}{r}\\Theta(1- r)$. We have $P(r)$. We need $P(1/r)$. This document might be helpful : https://www.math.arizona.edu/~jwatkins/f-transform.pdf.\n",
        "\n",
        "We need the following formula:  Given a random variable $X$ with pdf $f_X$, and another variable $Y = g(X)$, the pdf of $Y$, $f_Y$ is\n",
        "\n",
        "$f_Y(y) = f_X(g^{-1}(y))|\\frac{d}{dy} g^{-1}(y)|$\n",
        "\n",
        "The function which we are trying to calculate the inverse of $g(r) = 1/r$. The inverse of this function is $g^{-1}(r) = 1/ r$. Plugging all this into the above, we get after working through it\n",
        "\n",
        "$ P(1/r) \\times \\frac{1}{r^2} = P(r)$.\n",
        "\n",
        "From this, we can get the pdf of $r̃$.\n",
        "\n",
        "$P(r̃) = \\int_0^{\\infty} dr \\delta(r̃ - r \\Theta(r - 1) + \\frac{1}{r}\\Theta(1- r)) P(r) = \\int_0^1 dr \\delta(r̃ - \\frac{1}{r}) P(r) + \\int_1^{\\infty} dr \\delta (r̃- r)P(r) = $\n",
        "\n",
        "$s = 1/r, ds = -1/r^2 dr = -s^2 dr$.\n",
        "\n",
        "$ = \\int_1^∞ ds \\delta(r̃ - s) \\frac{1}{s^2} P(1/s) + \\int_1^{\\infty} dr \\delta (r̃- r)P(r) = \\int_1^∞ ds \\delta(r̃ - s) P(s) + \\int_1^{\\infty} dr \\delta (r̃- r)P(r) = 2 \\Theta(r̃ - 1) P(r̃)$.\n"
      ],
      "metadata": {
        "id": "hmm6Ryc4tuQG"
      }
    },
    {
      "cell_type": "markdown",
      "source": [
        "An extra note that might be of interest (credit to Cheryne Jonay and Nick O'Dea):\n",
        "\n",
        "\n",
        "*(A sketch of the key steps of the proof is that $H = O^T \\Lambda O$, so $dH = dO^T \\Lambda O + O^T d\\Lambda O + O^T \\Lambda dO$. Defining a metric $g$ as the coefficients of $Tr[dH dH]$ allows one to find the Jacobian $J$ resulting from changing from the basis of matrix elements of $H$ to that described by the eigenvectors and eigenvalues of $H$, as metrics obey $J = \\sqrt{\\det{g'}/\\det{g}}$ on changing from unprimed to primed coordinates.\n",
        "\n",
        "Note that $O dH O^T = OdO^T \\Lambda + d \\Lambda + \\Lambda dO O^T = d\\Lambda + [\\Lambda, dO O^T]$, where I've used $O^T O = I$ to derive $dO^T O = - O^T dO$.\n",
        "\n",
        "Then $Tr[dH dH] = Tr[O^T dH O O^T dH O] = Tr[(d\\Lambda + [\\Lambda, dO O^T])(d\\Lambda + [\\Lambda, dO O^T])]$.\n",
        "\n",
        "Since $Tr[A[B,C]] = Tr[B[C,A]]$ and $[d\\Lambda , \\Lambda] = 0$, the cross terms vanish, leaving us with\n",
        "\n",
        "$Tr[dH dH] = Tr[d\\Lambda^2] + Tr[[\\Lambda, dO O^T]^2]$\n",
        "\n",
        "This has a nice analogy in terms of polar coordinates: the $d\\Lambda^2$ can be thought  of as a radial component, and the $Tr[[\\Lambda, dO O^T]^2]$ as a solid angle. The analogy is important because it gives a nice visual of the eigenvalue repulsion: If we think of the entries of H in terms of these new (eigenvalue and eigenvector) coordinates, we immediately see that if any $e_i=e_j$ for $i\\neq j$, we will have a circle of vanishing radius. On the other hand, for $r_{ij}=e_i-e_j\\neq 0$, we can trace out a shell of width $r_{ij}$ in an $N$-dimensional space.\n",
        "\n",
        "Finally, by expressing $dO O^T$ in terms of the generators of rotation $Y$ of $SO(N)$ via $O = e^{iY}$, which are generalizations of the $\\sigma^y$ Pauli, the trace of the commutator at the end can be explicitly written out in terms of the $dY$ and the eigenvalues. Taking the determinant of the resulting (diagonal) metric and taking the square root yields the eigenvalue repulsion factors of $\\propto \\prod_{i,j\\;|\\; N\\geq i>j \\geq 1} |e_i-e_j|$, and one can simply integrate out the $dY$ terms to get the eigenvalue distribution alone.\n",
        "\n",
        "Note that the same can be repeated for the GUE, only that we use the trick $U^{\\dagger}U=1$ to derive $dU^{\\dagger} U = -U^{\\dagger} dU$, and the generators would be those for $U(N)$ (i.e. Hermitian matrices). The resulting level repulsion has an additional power arising from the additional generators and hence goes like $\\propto \\prod_{i,j\\;|\\; N\\geq i>j \\geq 1} |e_i-e_j|^2$.)"
      ],
      "metadata": {
        "id": "CQou1XXA5_q-"
      }
    },
    {
      "cell_type": "markdown",
      "metadata": {
        "id": "Q0HwpvohiCEC"
      },
      "source": [
        "## Question 2: Diagonalizing with symmetries [20 pts] (+ Bonus 20pts)##"
      ]
    },
    {
      "cell_type": "markdown",
      "metadata": {
        "id": "UVXE6mZNjW1x"
      },
      "source": [
        "When a Hamiltonian has a symmetry $S$ so that $[H, S]=0$, it can often help with diagonalization to take this symmetry into account. Because $H$ and $S$ can be simultaneously diagonalized, $H$ is block diagonal in the basis of eigenstates of $S$. Because these block sizes are smaller than the size of the full Hilbert space, diagonalizing the blocks separately can substantially speed up diagonalization. Remember that (dense) diagonalization scales with matrix size as $N^3$. Thus, if we can divide the Hamiltonian of size $2^L$ into (say) two equal blocks of size $(2^L)/2$, each of the two blocks will be diagonalized 8 times faster, for a total factor of 4 speedup in the diagonalization.\n",
        "\n",
        "The block diagonalization is only useful if the symmetries $S$ are \"simple\", so that the eigenstates of $S$ can be obtained without doing an explicit diagonalization for $S$. For example, when $S = \\prod_i Z_i$, we know the eigenstates of $S$ are just product states in the $Z$ basis. Doing a dense diagonalization of $S$ is not useful numerically, because it is just as expensive as doing full diagonalization on $H$.\n",
        "\n",
        "To block diagonalize the Hamiltonian in the eigenbasis of $S$, one obtains the eigenvalues of $S$ (again, these are often known analytically): $\\{s_1, s_2, \\cdots s_n\\}$. We then construct projectors $P_\\alpha$ whose columns are the eigenvectors of $S$ with a given eigenvalue $s_\\alpha$. This matrix has dimension $2^L x d_\\alpha$, where $d_\\alpha$ is the number of eigenstates of $S$ with eigenvalue $s_\\alpha$. Finally, $H_\\alpha = P^T_\\alpha  H P_\\alpha$ has dimension $d_\\alpha x d_\\alpha$ and can be diagonalized more efficiently. Finally, note that $H$ and $P_\\alpha$ are sparse matrices in most cases of interest, so $H_\\alpha$ can be constructed using sparse multiplication.  \n",
        "\n",
        "Of course, when $H$ has multiple mutually commuting symmetries, the blocks can be chosen to take all of these into account.\n",
        "\n",
        "Useful reference: http://physics.bu.edu/~sandvik/nccu/l2.pdf\n",
        "\n"
      ]
    },
    {
      "cell_type": "markdown",
      "metadata": {
        "id": "zMlMAUWipJM0"
      },
      "source": [
        "Choose $L = 8$.\n",
        "\n",
        "\n",
        "(a) Pick $S = \\prod_{i=1}^L Z_i$. This has eigenvalues $\\{+1, -1\\}$. Construct $P_+$ and $P_-$ without doing dense diagonalization. Note that you can do this by explictly looping through all $2^L$ $z$ basis states in binary, and computing $S$ for each of these. However, it is even faster to directly construct the diagonal matrix $S$ using sparse multiplication. Then you can obtain the diagonal entries using S.diagonal(), and search for the indices where the entries are +1 or -1 using np.where(). [2pts]\n",
        "\n",
        "(b) Pick $S = \\sum_i Z_i$. What are the possible eigenvalues $s_\\alpha$ of $S$? Construct $P_\\alpha$ for each of these. Once again, looking at the diagonal entries of $S$ may be useful. [3pts]\n",
        "\n",
        "(c) Pick $S = \\prod_i X_i$. Construct $P_+$ and $P_-$ without doing dense diagonalization. [5pts]\n",
        "\n",
        "(d) Pick $S$ = spatial inversion symmetry. Construct $P_+$ and $P_-$. [10pts]\n",
        "\n",
        "(e) Bonus: Pick $S$ = discrete translation symmetry by a lattice constant. What are the allowed eigenvalues? Construct $P_\\alpha$ for each of these. The Sandvik link above will be useful. [20pts]  "
      ]
    },
    {
      "cell_type": "markdown",
      "source": [
        "**2a.**"
      ],
      "metadata": {
        "id": "SdrzpQs8IrJQ"
      }
    },
    {
      "cell_type": "markdown",
      "source": [
        "We'll do this 3 ways. First, since this is an operator which takes on only $\\pm 1$ eigenvalues, the projectors can be represented as $P_{\\pm} = \\frac{1 \\pm \\prod_{i=1}^L Z_i}{2}$. The columns of this matrix are the +1 eigenvectors of $P$ which will form the basis of the subspace that we project into."
      ],
      "metadata": {
        "id": "IsQdJVkTIt2z"
      }
    },
    {
      "cell_type": "code",
      "source": [
        "from functools import reduce\n",
        "\n",
        "\n",
        "def P_ZProd(L, sector = 1): #1 is the plus sector, -1 is the minus sector\n",
        "  s0_list, sx_list,sy_list,sz_list = gen_s0sxsysz(L)\n",
        "  op = reduce(lambda x, y: x * y, sz_list)\n",
        "  P = 0.5 * (sparse.identity(2**L) + sector * op) # We will want only the columns of this matrix which contain a nonzero element.\n",
        "  P_reduced = P[:, P.getnnz(axis=0) > 0]\n",
        "  return P_reduced\n",
        "\n",
        "\n",
        "P_ZProd(4,1).todense()"
      ],
      "metadata": {
        "id": "oo3AP7ewI8Ic",
        "colab": {
          "base_uri": "https://localhost:8080/"
        },
        "outputId": "314ce8a3-3ca6-44d4-f003-050f1d499ba4"
      },
      "execution_count": null,
      "outputs": [
        {
          "output_type": "execute_result",
          "data": {
            "text/plain": [
              "matrix([[1., 0., 0., 0., 0., 0., 0., 0.],\n",
              "        [0., 0., 0., 0., 0., 0., 0., 0.],\n",
              "        [0., 0., 0., 0., 0., 0., 0., 0.],\n",
              "        [0., 1., 0., 0., 0., 0., 0., 0.],\n",
              "        [0., 0., 0., 0., 0., 0., 0., 0.],\n",
              "        [0., 0., 1., 0., 0., 0., 0., 0.],\n",
              "        [0., 0., 0., 1., 0., 0., 0., 0.],\n",
              "        [0., 0., 0., 0., 0., 0., 0., 0.],\n",
              "        [0., 0., 0., 0., 0., 0., 0., 0.],\n",
              "        [0., 0., 0., 0., 1., 0., 0., 0.],\n",
              "        [0., 0., 0., 0., 0., 1., 0., 0.],\n",
              "        [0., 0., 0., 0., 0., 0., 0., 0.],\n",
              "        [0., 0., 0., 0., 0., 0., 1., 0.],\n",
              "        [0., 0., 0., 0., 0., 0., 0., 0.],\n",
              "        [0., 0., 0., 0., 0., 0., 0., 0.],\n",
              "        [0., 0., 0., 0., 0., 0., 0., 1.]])"
            ]
          },
          "metadata": {},
          "execution_count": 36
        }
      ]
    },
    {
      "cell_type": "markdown",
      "source": [
        "The second way to do this is to construct the operator and just look for where the +1 elements are on the diagonal."
      ],
      "metadata": {
        "id": "yD0cweFiqjcZ"
      }
    },
    {
      "cell_type": "code",
      "source": [
        "def P_ZProd(L, sector = 1): #1 is the plus sector, -1 is the minus sector\n",
        "  s0_list, sx_list,sy_list,sz_list = gen_s0sxsysz(L)\n",
        "  op = reduce(lambda x, y: x * y, sz_list)\n",
        "  diagonal = op.diagonal()\n",
        "  idx = np.where(diagonal == sector)[0]\n",
        "  P = op[:, idx]\n",
        "  return P\n",
        "\n",
        "\n",
        "P_ZProd(4,1).todense()\n"
      ],
      "metadata": {
        "colab": {
          "base_uri": "https://localhost:8080/"
        },
        "id": "62G9Yr8OqcWR",
        "outputId": "be165fd4-e8f2-4961-d4db-516495cab0f1"
      },
      "execution_count": null,
      "outputs": [
        {
          "output_type": "execute_result",
          "data": {
            "text/plain": [
              "matrix([[1., 0., 0., 0., 0., 0., 0., 0.],\n",
              "        [0., 0., 0., 0., 0., 0., 0., 0.],\n",
              "        [0., 0., 0., 0., 0., 0., 0., 0.],\n",
              "        [0., 1., 0., 0., 0., 0., 0., 0.],\n",
              "        [0., 0., 0., 0., 0., 0., 0., 0.],\n",
              "        [0., 0., 1., 0., 0., 0., 0., 0.],\n",
              "        [0., 0., 0., 1., 0., 0., 0., 0.],\n",
              "        [0., 0., 0., 0., 0., 0., 0., 0.],\n",
              "        [0., 0., 0., 0., 0., 0., 0., 0.],\n",
              "        [0., 0., 0., 0., 1., 0., 0., 0.],\n",
              "        [0., 0., 0., 0., 0., 1., 0., 0.],\n",
              "        [0., 0., 0., 0., 0., 0., 0., 0.],\n",
              "        [0., 0., 0., 0., 0., 0., 1., 0.],\n",
              "        [0., 0., 0., 0., 0., 0., 0., 0.],\n",
              "        [0., 0., 0., 0., 0., 0., 0., 0.],\n",
              "        [0., 0., 0., 0., 0., 0., 0., 1.]])"
            ]
          },
          "metadata": {},
          "execution_count": 32
        }
      ]
    },
    {
      "cell_type": "markdown",
      "source": [
        "The third way is by direct evaluation of the operator over the basis states. This can be accomplished by summing the digits, mod 2, of the bit string representation of the basis state. If the result is 0(1), then it is a +1(-1) eigenstate of the operator."
      ],
      "metadata": {
        "id": "mBTKrHcorYfo"
      }
    },
    {
      "cell_type": "code",
      "source": [
        "def P_ZProd(L, sector = 1): #1 is the plus sector, -1 is the minus sector\n",
        "  basis = []\n",
        "  sector = abs((sector - 1) // 2)\n",
        "  for i in range(2**L):\n",
        "    if sum(int(digit) for digit in bin(i)[2:]) % 2 == sector:\n",
        "      basis.append(i)\n",
        "  P = sparse.eye(2**L, format='csr')[basis].T\n",
        "  return P\n",
        "\n",
        "P_ZProd(4).todense()"
      ],
      "metadata": {
        "colab": {
          "base_uri": "https://localhost:8080/"
        },
        "id": "-Xe_kICDnykK",
        "outputId": "b7cac124-fd7d-450f-a6ed-77e5609e2ecc"
      },
      "execution_count": null,
      "outputs": [
        {
          "output_type": "execute_result",
          "data": {
            "text/plain": [
              "matrix([[1., 0., 0., 0., 0., 0., 0., 0.],\n",
              "        [0., 0., 0., 0., 0., 0., 0., 0.],\n",
              "        [0., 0., 0., 0., 0., 0., 0., 0.],\n",
              "        [0., 1., 0., 0., 0., 0., 0., 0.],\n",
              "        [0., 0., 0., 0., 0., 0., 0., 0.],\n",
              "        [0., 0., 1., 0., 0., 0., 0., 0.],\n",
              "        [0., 0., 0., 1., 0., 0., 0., 0.],\n",
              "        [0., 0., 0., 0., 0., 0., 0., 0.],\n",
              "        [0., 0., 0., 0., 0., 0., 0., 0.],\n",
              "        [0., 0., 0., 0., 1., 0., 0., 0.],\n",
              "        [0., 0., 0., 0., 0., 1., 0., 0.],\n",
              "        [0., 0., 0., 0., 0., 0., 0., 0.],\n",
              "        [0., 0., 0., 0., 0., 0., 1., 0.],\n",
              "        [0., 0., 0., 0., 0., 0., 0., 0.],\n",
              "        [0., 0., 0., 0., 0., 0., 0., 0.],\n",
              "        [0., 0., 0., 0., 0., 0., 0., 1.]])"
            ]
          },
          "metadata": {},
          "execution_count": 54
        }
      ]
    },
    {
      "cell_type": "markdown",
      "source": [
        "**2b.**\n",
        "\n",
        "This operator has eigenvalues $L, L-2, \\ldots -L + 2, -L$. In the binary representation of a $Z$ basis state, the sum of all the digits is related to the total $Z$ spin. The sum of all the digits is the number of down spins $N_↓$ in the basis state. The total $Z$ spin of a basis state is then $L - 2 N_↓$."
      ],
      "metadata": {
        "id": "T1nmKE9My7Vi"
      }
    },
    {
      "cell_type": "code",
      "source": [
        "def P_totalZ(L, sector = 0): # Enter the total Z spin desired\n",
        "  basis = []\n",
        "  for i in range(2**L):\n",
        "    Nd = sum(int(digit) for digit in bin(i)[2:])\n",
        "    if L - 2*Nd == sector:\n",
        "      basis.append(i)\n",
        "  P = sparse.eye(2**L, format='csr')[basis].T\n",
        "  return P\n",
        "\n",
        "P_totalZ(4).todense()"
      ],
      "metadata": {
        "colab": {
          "base_uri": "https://localhost:8080/"
        },
        "id": "xuGp3nM0zBGP",
        "outputId": "3f4670f4-beeb-443e-e1fc-7b7bc2530374"
      },
      "execution_count": null,
      "outputs": [
        {
          "output_type": "execute_result",
          "data": {
            "text/plain": [
              "matrix([[0., 0., 0., 0., 0., 0.],\n",
              "        [0., 0., 0., 0., 0., 0.],\n",
              "        [0., 0., 0., 0., 0., 0.],\n",
              "        [1., 0., 0., 0., 0., 0.],\n",
              "        [0., 0., 0., 0., 0., 0.],\n",
              "        [0., 1., 0., 0., 0., 0.],\n",
              "        [0., 0., 1., 0., 0., 0.],\n",
              "        [0., 0., 0., 0., 0., 0.],\n",
              "        [0., 0., 0., 0., 0., 0.],\n",
              "        [0., 0., 0., 1., 0., 0.],\n",
              "        [0., 0., 0., 0., 1., 0.],\n",
              "        [0., 0., 0., 0., 0., 0.],\n",
              "        [0., 0., 0., 0., 0., 1.],\n",
              "        [0., 0., 0., 0., 0., 0.],\n",
              "        [0., 0., 0., 0., 0., 0.],\n",
              "        [0., 0., 0., 0., 0., 0.]])"
            ]
          },
          "metadata": {},
          "execution_count": 93
        }
      ]
    },
    {
      "cell_type": "markdown",
      "source": [
        "This can also be accomplished by constructing the operator and searching for the diagonal elements where the desired eigenvalues reside."
      ],
      "metadata": {
        "id": "tPbYLZhQ07gn"
      }
    },
    {
      "cell_type": "code",
      "source": [
        "def P_ZProd(L, sector = 0): # Enter the total Z spin desired\n",
        "  s0_list, sx_list,sy_list,sz_list = gen_s0sxsysz(L)\n",
        "  op = sum(sz_list)\n",
        "  diagonal = op.diagonal()\n",
        "  idx = np.where(diagonal == sector)[0]\n",
        "  P = sparse.eye(2**L, format='csr')[idx].T\n",
        "  return P\n",
        "\n",
        "\n",
        "P_ZProd(4,0).todense()\n"
      ],
      "metadata": {
        "colab": {
          "base_uri": "https://localhost:8080/"
        },
        "id": "LGV_dhN61BAU",
        "outputId": "49754c0e-5c72-419b-ea5c-045b77ab8964"
      },
      "execution_count": null,
      "outputs": [
        {
          "output_type": "execute_result",
          "data": {
            "text/plain": [
              "matrix([[0., 0., 0., 0., 0., 0.],\n",
              "        [0., 0., 0., 0., 0., 0.],\n",
              "        [0., 0., 0., 0., 0., 0.],\n",
              "        [1., 0., 0., 0., 0., 0.],\n",
              "        [0., 0., 0., 0., 0., 0.],\n",
              "        [0., 1., 0., 0., 0., 0.],\n",
              "        [0., 0., 1., 0., 0., 0.],\n",
              "        [0., 0., 0., 0., 0., 0.],\n",
              "        [0., 0., 0., 0., 0., 0.],\n",
              "        [0., 0., 0., 1., 0., 0.],\n",
              "        [0., 0., 0., 0., 1., 0.],\n",
              "        [0., 0., 0., 0., 0., 0.],\n",
              "        [0., 0., 0., 0., 0., 1.],\n",
              "        [0., 0., 0., 0., 0., 0.],\n",
              "        [0., 0., 0., 0., 0., 0.],\n",
              "        [0., 0., 0., 0., 0., 0.]])"
            ]
          },
          "metadata": {},
          "execution_count": 56
        }
      ]
    },
    {
      "cell_type": "markdown",
      "source": [
        "**2c.**"
      ],
      "metadata": {
        "id": "a5MVdaum30wx"
      }
    },
    {
      "cell_type": "markdown",
      "source": [
        "The action of this operator is to flip every spin in the state. The states which are eigenstates of this operator are the \"cat states.\" These are states which are superpositions of a $Z$ basis state and the state created by flipping every spin of that state, e.g. $|{0010}\\rangle + |{1101}⟩$. Furthermore, in a $2^L$ system, given the a $Z$ basis state and its integer representation $i$, the integer representation of the cat state pair is $(2^L - 1) - i$. This allows us to construct the projectors.\n",
        "\n",
        "Said more simply, the action of $P$ will take a non-zero element of a vector located at index $i$ and place it in the $(2^L - 1) - i$th index. The eigenvectors have a simple form. They are just the vectors which are invariant under mirroring about the central index."
      ],
      "metadata": {
        "id": "i-MSjYjU4Nwz"
      }
    },
    {
      "cell_type": "code",
      "source": [
        "def P_Xprod(L, sector = 1): #1 is the plus sector, -1 is the minus sector\n",
        "  P = sparse.csr_matrix((2**L, 2**(L-1)))\n",
        "  idx = np.arange(2**(L - 1))\n",
        "  P[idx, idx] = 1 / np.sqrt(2)\n",
        "  P[2**L - 1 - idx, idx] = sector * 1 / np.sqrt(2)\n",
        "  return P\n",
        "\n"
      ],
      "metadata": {
        "id": "cLsh6vaz32hw"
      },
      "execution_count": null,
      "outputs": []
    },
    {
      "cell_type": "markdown",
      "source": [
        "**2d.**"
      ],
      "metadata": {
        "id": "5cGotItWx_d1"
      }
    },
    {
      "cell_type": "markdown",
      "source": [
        "I find that the easiest way to do this is through manipulation of the bitstring representations. The eigenstates can be found by the following. If a $Z$ basis state is identical under reversing the bitstring, it is an inversion eigenstate. If not, the state can be added to its reversed pair. This superposition is an eigenstate. These are all the eigenstates of the symmetric inversion operator. The antisymmetric inversion eigenstates are the same superpositions from the plus sector but with a minus sign."
      ],
      "metadata": {
        "id": "cjSThH0gyB7W"
      }
    },
    {
      "cell_type": "code",
      "source": [
        "def P_inv(L, sector = 1):\n",
        "  P = []\n",
        "  for i in range(2**L):\n",
        "    chain = L - len(bin(i)[2:])\n",
        "    j = int('0b' + bin(i)[2:][::-1] + chain * '0',2)\n",
        "    if j < i:\n",
        "      continue\n",
        "    if i != j:\n",
        "      state = sparse.csr_matrix((2**L,1))\n",
        "      state[i] = 1 / np.sqrt(2)\n",
        "      state[j] = sector * 1 / np.sqrt(2)\n",
        "      P.append(state)\n",
        "    elif sector == 1:\n",
        "      state = sparse.csr_matrix((2**L,1))\n",
        "      state[i] = 1\n",
        "      P.append(state)\n",
        "  return sparse.hstack(P)\n",
        "\n",
        "P_inv(4, 1).todense()\n"
      ],
      "metadata": {
        "colab": {
          "base_uri": "https://localhost:8080/"
        },
        "id": "cSB-HlKTnPUD",
        "outputId": "d3c78e01-85d6-47f9-fbfa-6033e0ed8ced"
      },
      "execution_count": null,
      "outputs": [
        {
          "output_type": "stream",
          "name": "stderr",
          "text": [
            "/usr/local/lib/python3.10/dist-packages/scipy/sparse/_index.py:143: SparseEfficiencyWarning: Changing the sparsity structure of a csr_matrix is expensive. lil_matrix is more efficient.\n",
            "  self._set_arrayXarray(i, j, x)\n"
          ]
        },
        {
          "output_type": "execute_result",
          "data": {
            "text/plain": [
              "matrix([[1.        , 0.        , 0.        , 0.        , 0.        ,\n",
              "         0.        , 0.        , 0.        , 0.        , 0.        ],\n",
              "        [0.        , 0.70710678, 0.        , 0.        , 0.        ,\n",
              "         0.        , 0.        , 0.        , 0.        , 0.        ],\n",
              "        [0.        , 0.        , 0.70710678, 0.        , 0.        ,\n",
              "         0.        , 0.        , 0.        , 0.        , 0.        ],\n",
              "        [0.        , 0.        , 0.        , 0.70710678, 0.        ,\n",
              "         0.        , 0.        , 0.        , 0.        , 0.        ],\n",
              "        [0.        , 0.        , 0.70710678, 0.        , 0.        ,\n",
              "         0.        , 0.        , 0.        , 0.        , 0.        ],\n",
              "        [0.        , 0.        , 0.        , 0.        , 0.70710678,\n",
              "         0.        , 0.        , 0.        , 0.        , 0.        ],\n",
              "        [0.        , 0.        , 0.        , 0.        , 0.        ,\n",
              "         1.        , 0.        , 0.        , 0.        , 0.        ],\n",
              "        [0.        , 0.        , 0.        , 0.        , 0.        ,\n",
              "         0.        , 0.70710678, 0.        , 0.        , 0.        ],\n",
              "        [0.        , 0.70710678, 0.        , 0.        , 0.        ,\n",
              "         0.        , 0.        , 0.        , 0.        , 0.        ],\n",
              "        [0.        , 0.        , 0.        , 0.        , 0.        ,\n",
              "         0.        , 0.        , 1.        , 0.        , 0.        ],\n",
              "        [0.        , 0.        , 0.        , 0.        , 0.70710678,\n",
              "         0.        , 0.        , 0.        , 0.        , 0.        ],\n",
              "        [0.        , 0.        , 0.        , 0.        , 0.        ,\n",
              "         0.        , 0.        , 0.        , 0.70710678, 0.        ],\n",
              "        [0.        , 0.        , 0.        , 0.70710678, 0.        ,\n",
              "         0.        , 0.        , 0.        , 0.        , 0.        ],\n",
              "        [0.        , 0.        , 0.        , 0.        , 0.        ,\n",
              "         0.        , 0.        , 0.        , 0.70710678, 0.        ],\n",
              "        [0.        , 0.        , 0.        , 0.        , 0.        ,\n",
              "         0.        , 0.70710678, 0.        , 0.        , 0.        ],\n",
              "        [0.        , 0.        , 0.        , 0.        , 0.        ,\n",
              "         0.        , 0.        , 0.        , 0.        , 1.        ]])"
            ]
          },
          "metadata": {},
          "execution_count": 90
        }
      ]
    },
    {
      "cell_type": "markdown",
      "source": [
        "**2e.**"
      ],
      "metadata": {
        "id": "W_OYp3j2pg2j"
      }
    },
    {
      "cell_type": "markdown",
      "source": [
        "Credit to Cheryne Jonay and Nick O'Dea for this solution."
      ],
      "metadata": {
        "id": "oXINJH2Tpk1Z"
      }
    },
    {
      "cell_type": "code",
      "source": [
        "#gen_sym_translation constructs sparse, rectangular projectors for different momenta sectors.\n",
        "#Works for any S.\n",
        "\n",
        "def gen_sym_translation(ind, L,S):\n",
        "  tol = .1/L\n",
        "  SSHS = int(np.round(2*S+1,1))\n",
        "  base = SSHS\n",
        "\n",
        "  #I am constructing values, i-indices, and j-indices.\n",
        "  #These allow the construction of sparse projectors.\n",
        "  ktval = [[] for i in range(L)]\n",
        "  ktjind = [[] for i in range(L)]\n",
        "  ktiind = [[] for i in range(L)]\n",
        "  kcounter = [0 for i in range(L)]\n",
        "\n",
        "  temind = 0\n",
        "  counter = 0\n",
        "  for n in ind:\n",
        "    #print('n is' + f'{n}')\n",
        "    b = np.base_repr(n, base = SSHS).zfill(L)\n",
        "    ind = [n]\n",
        "    for d in range(1, L+1):\n",
        "      #Constructing translated product states\n",
        "      indx = int(b[d:]+b[:d], SSHS)\n",
        "      ind.append(indx)\n",
        "\n",
        "      #Some product states are translations of another.\n",
        "      #The following if statement eliminates redundancies by selecting\n",
        "      #a \"representative\" product state before proceeding.\n",
        "      if indx < n:\n",
        "        break\n",
        "      if indx == n:\n",
        "        for k in range(0, L):\n",
        "          tmp = k*d/L\n",
        "          if np.abs(np.round(tmp) - tmp) < tol:\n",
        "                #^Ensure that the momentum phases can \"wrap around\" between site L-1 and 0.\n",
        "                #If k is not 0 or pi, we can just use the translated states found earlier.\n",
        "                ktjind[k].append(ind[:-1])\n",
        "                ktiind[k].append([kcounter[k]]*(d))\n",
        "                kcounter[k] = kcounter[k] + 1\n",
        "                ktval[k].append((np.exp(2 * np.pi * 1j * k/L) ** np.arange(d))/np.sqrt(d))\n",
        "        break\n",
        "\n",
        "  #Now constructing sparse matrices using the sets of (value, i, j) from above.\n",
        "  #If a given symmetry sector would have 0 eigenvectors in it, I return a row matrix filled\n",
        "  #with 0s in its place to avoid exceptions.\n",
        "  slist = []\n",
        "  for k in range(L):\n",
        "      try:\n",
        "        tem = sparse.csr_matrix((np.concatenate(ktval[k]), (np.concatenate(ktiind[k]), np.concatenate(ktjind[k]))), shape=(kcounter[k], SSHS**L))\n",
        "      except:\n",
        "        tem = sparse.csr_matrix((1, SSHS**L))\n",
        "      slist.append(tem)\n",
        "\n",
        "  return(slist)\n",
        "\n"
      ],
      "metadata": {
        "id": "RuA5IXoipoOJ"
      },
      "execution_count": null,
      "outputs": []
    },
    {
      "cell_type": "markdown",
      "metadata": {
        "id": "fC5czDx_u_TD"
      },
      "source": [
        "## Question 3: $J_1$-$J_2$ Heisenberg model [30 pts]##"
      ]
    },
    {
      "cell_type": "markdown",
      "metadata": {
        "id": "kjjbhGHd3lI4"
      },
      "source": [
        "A class of models we'll use very often in this course are perturbations of the integrable XXZ chain: $H = J \\sum_i (\\sigma_i^x\\sigma_{i+1}^x + \\sigma_i^y\\sigma_{i+1}^y + \\Delta_z\\sigma_i^z\\sigma_{i+1}^z)$. The model is integrable for all $\\Delta_z$, but $\\Delta_z = 1$ has $SU(2)$ symmetry which complicates the ETH analysis. For simplicity, set $\\Delta_z =0.5$.\n",
        "One integrability breaking perturbation is the addition of second-neighbor hoppings/interactions:\n",
        "$$H = J \\sum_i (\\sigma_i^x\\sigma_{i+1}^x + \\sigma_i^y\\sigma_{i+1}^y + \\Delta_z \\sigma_i^z\\sigma_{i+1}^z) + J_2 \\sum_i (\\sigma_i^x\\sigma_{i+2}^x + \\sigma_i^y\\sigma_{i+2}^y + \\Delta_z \\sigma_i^z\\sigma_{i+2}^z).$$ Note that this model has an additional $U(1)$ symmetry corresponding to conservation of total $z$ component of spin, $Q = S^z_{\\rm tot} = \\sum_i \\sigma_i^z$.  The Hamiltonian in the $z$ basis is block diagonal in the different sectors of $Q$, since it cannot mix between states with different $q$ values.\n",
        "\n",
        "\n",
        "We will take $Q$ into account in the analysis below. However, to simplify the numerical analysis, you can work with open boundary conditions (so that you do not have translation symmetry). You may also choose to add a small boundary term $0.2 \\sigma_1^z$; this will not change the bulk properties, but breaks inversion symmetry so your analysis is not complicated by inversion symmetry."
      ]
    },
    {
      "cell_type": "markdown",
      "metadata": {
        "id": "4AdayQUa41Ml"
      },
      "source": [
        "We will compare two Hamiltonians:\n",
        "$J_2 = 0$ which is integrable and\n",
        "$J_2 = 1$ which is non-integrable. The parts below will require you to analyse various eigenspectrum properties for both values of $J_2$ and $L = 8, 10, 12, 14$. I suggest diagonalizing once for each parameter choice (take the $Q$ symmetry into account) and then performing the different analyses below, rather than diagonalizing separately each time.  \n"
      ]
    },
    {
      "cell_type": "markdown",
      "metadata": {
        "id": "3CM1ACIg5Ji6"
      },
      "source": [
        "(a) Consider the entire (sorted) eigenvalue spectrum for $H$. You can obtain this by merging the eigenvalues from each sector into a single list, and sorting this list. Consider the middle third of the sorted list of eigenvalues (corresponding to infinite temperature) and obtain and plot the distribution of eigenenergy spacings for both values of $J_2$ and the different $L$ values. Do you notice a difference between the integrable and non-integrable cases? [10pts]\n",
        "\n",
        "(b) Repeat the analysis from (a), but now only consider eigenvalues within the $Q=0$ symmetry sector. What changed? [5pts]\n",
        "\n",
        "(c) Comment on the results from (a) and (b), and discuss the importance of symmetries in performing analyses of eigenvalue spacings. [5pts]\n",
        "\n",
        "Recall the ETH ansatz: $O_{\\alpha \\beta} = O(E)\\delta_{\\alpha \\beta} + R_{\\alpha\\beta} e^{S(E)/2}f(E,\\omega)$, where $E= \\frac{E_\\alpha+E_\\beta}{2}$ and $\\omega = E_\\beta - E_\\alpha$, and O(E) and $f(E, \\omega)$ are smooth functions of $E, \\omega$, $R_{\\alpha, \\beta}$ is a Gaussian random variable.\n",
        "\n",
        "The off-diagonal ETH ansatz follows from RMT. For a $N$ dimensional Gaussian random matrix, the eigenvectors $|\\alpha\\rangle$ look like random gaussian vectors. The eigenvectors have unit norm, which imposes that $\\alpha_i \\sim r_i /\\sqrt{N}$, with $r_i$ a random Gaussian variable and $\\alpha_i$ is the $i$th entry of $|\\alpha\\rangle$ in the computational basis. If $|\\alpha\\rangle$ is a random vector, so is $O|\\alpha\\rangle$, and the overlap of $O|\\alpha\\rangle$ with another random vector $|\\beta\\rangle$ typically scales as $r/\\sqrt{N}$ (similar to scaling of $\\alpha_i$, which is of course the overlap of the random vector $\\alpha$ with the computational basis state $i$). This RMT expection shows up in the $R_{\\alpha\\beta} e^{-S(E)/2}$ part of the ETH ansatz, as $e^{-S(E)/2} \\sim 1/\\sqrt{N}$ is simply the inverse square root of the Hilbert space dimension at energy $E$. For small enough energy windows ($\\Delta E < E_{\\rm Thouless}$), the spectrum of a thermalizing Hamiltonian resembles that of a random matrix, and $f(E, \\omega)$ is featureless.\n",
        "\n",
        "We will now perform a crude test of off-diagonal ETH.\n",
        "\n",
        "(d) Pick the largest system size $L=14$ and work within the $S^z_{\\rm tot} = 0$ sector. (This is the largest sector corresponding to $\\mu = 0$, analogous to working at infinite temperature). Pick the middle 100 eigenstates in the sector, and obtain $O_{\\alpha \\beta}$ for each pair of eigenstates within these 1000 states (this will give you 100 choose 2 = 4950 $O_{\\alpha \\beta}$ values). You can pick $O = Z_{L/2}$.  Histogram these matrix elements for both values of $J_2$. Do the distributions look Gaussian? This is testing the prediction that $R_{\\alpha \\beta}$ in the ETH ansatz is a random Gaussian variable.\n",
        "Discuss the differences between the two values of $J_2$. [10pts]\n",
        "\n",
        "An interesting paper and very readable paper that explores off-diagonal across an MBL phase transition is: https://arxiv.org/abs/1607.01012\n",
        "\n",
        "\n",
        "Note: since we are only performing this analysis for a fixed system size, we are not checking for the $e^{-S/2}$ dependence; likewise, $f$ is assumed to be featureless within the small energy window we have picked.  Of course, you are welcome to explore there features as well.\n",
        "\n"
      ]
    },
    {
      "cell_type": "markdown",
      "source": [
        "**3a.**"
      ],
      "metadata": {
        "id": "7pOq8Vrlp15T"
      }
    },
    {
      "cell_type": "code",
      "source": [
        "def Ham_op(L):\n",
        "  s0_list, sx_list,sy_list,sz_list = gen_s0sxsysz(L)\n",
        "\n",
        "  delta = 0.5\n",
        "  J1 = 1\n",
        "  J2 = 1\n",
        "\n",
        "  Ham = 0.2 * sz_list[0] #I Inversion symmetry breaking boundary field\n",
        "  HamJ2 = 0.2 * sz_list[0]\n",
        "\n",
        "  for i in range(L):\n",
        "    if i + 1 < L:\n",
        "      Ham += J1 * (sx_list[i] * sx_list[i+1] + sy_list[i] * sy_list[i+1] + delta * sz_list[i] * sz_list[i+1])\n",
        "      HamJ2 += J1 * (sx_list[i] * sx_list[i+1] + sy_list[i] * sy_list[i+1] + delta * sz_list[i] * sz_list[i+1])\n",
        "    if i + 2 < L:\n",
        "      HamJ2 += J2 * (sx_list[i] * sx_list[i+2] + sy_list[i] * sy_list[i+2] + delta * sz_list[i] * sz_list[i+2])\n",
        "\n",
        "  evals = []\n",
        "  evalsJ2 = []\n",
        "  for i in range(-L,L+1,2):\n",
        "    Q = P_totalZ(L,i)\n",
        "    Ham_sector = Q.T * Ham * Q\n",
        "    HamJ2_sector = Q.T * HamJ2 * Q\n",
        "\n",
        "    eigvals = np.linalg.eigvalsh(Ham_sector.toarray()).tolist()\n",
        "    eigvalsJ2 = np.linalg.eigvalsh(HamJ2_sector.toarray()).tolist()\n",
        "\n",
        "    eigvals.sort()\n",
        "    eigvalsJ2.sort()\n",
        "\n",
        "    evals.append(eigvals)\n",
        "    evalsJ2.append(eigvalsJ2)\n",
        "\n",
        "\n",
        "\n",
        "  return np.concatenate(evals), np.concatenate(evalsJ2)\n",
        "\n",
        "evals_L8, evals_L8_J2 = Ham_op(8)\n"
      ],
      "metadata": {
        "id": "2wBPBLHpp3ZM"
      },
      "execution_count": null,
      "outputs": []
    },
    {
      "cell_type": "code",
      "source": [
        "evals_L8, evals_L8_J2 = Ham_op(8)\n",
        "evals_L10, evals_L10_J2 = Ham_op(10)\n",
        "evals_L12, evals_L12_J2 = Ham_op(12)\n",
        "evals_L14, evals_L14_J2 = Ham_op(14)"
      ],
      "metadata": {
        "id": "J9CSHPZNreGX"
      },
      "execution_count": null,
      "outputs": []
    },
    {
      "cell_type": "code",
      "source": [
        "def get_spacings(evals):\n",
        "  N = len(evals)\n",
        "  evals.sort()\n",
        "  spacings = evals[N//3+1:2*N//3+1] - evals[N//3:2*N//3]\n",
        "  spacings /= np.average(spacings)\n",
        "  return spacings"
      ],
      "metadata": {
        "id": "zfrkN-5gtBdw"
      },
      "execution_count": null,
      "outputs": []
    },
    {
      "cell_type": "code",
      "source": [
        "fig, ax = plt.subplots(2,2, dpi = 100)\n",
        "fig.set_figwidth(10)\n",
        "fig.set_figheight(8)\n",
        "\n",
        "ax1 = plt.subplot(2, 2, 1)\n",
        "ax2 = plt.subplot(2, 2, 2)\n",
        "ax3 = plt.subplot(2, 2, 3)\n",
        "ax4 = plt.subplot(2, 2, 4)\n",
        "\n",
        "ax1.set_title('L = 8')\n",
        "ax1.hist(get_spacings(evals_L8), alpha = 0.5, label = 'Integrable', density = True);\n",
        "ax1.hist(get_spacings(evals_L8_J2), alpha = 0.5, label = 'Non-Integrable', density = True);\n",
        "ax1.set_ylabel('$P(s)$')\n",
        "ax1.legend();\n",
        "\n",
        "ax2.set_title('L = 10')\n",
        "ax2.hist(get_spacings(evals_L10), alpha = 0.5, label = 'Integrable', density = True);\n",
        "ax2.hist(get_spacings(evals_L10_J2), alpha = 0.5, label = 'Non-Integrable', density = True);\n",
        "ax2.legend();\n",
        "\n",
        "ax3.set_title('L = 12')\n",
        "ax3.hist(get_spacings(evals_L12), alpha = 0.5, label = 'Integrable', density = True);\n",
        "ax3.hist(get_spacings(evals_L12_J2), alpha = 0.5, label = 'Non-Integrable', density = True);\n",
        "ax3.set_xlabel('$s$')\n",
        "ax3.legend();\n",
        "\n",
        "ax4.set_title('L = 14')\n",
        "ax4.hist(get_spacings(evals_L14), alpha = 0.5, label = 'Integrable', density = True);\n",
        "ax4.hist(get_spacings(evals_L14_J2), alpha = 0.5, label = 'Non-Integrable', density = True);\n",
        "ax4.legend();"
      ],
      "metadata": {
        "colab": {
          "base_uri": "https://localhost:8080/",
          "height": 718
        },
        "id": "LUEAL9hVsFBe",
        "outputId": "5482f739-5611-4dec-b8da-d7f8b447c465"
      },
      "execution_count": null,
      "outputs": [
        {
          "output_type": "display_data",
          "data": {
            "text/plain": [
              "<Figure size 1000x800 with 4 Axes>"
            ],
            "image/png": "[encoded data removed]"
          },
          "metadata": {}
        }
      ]
    },
    {
      "cell_type": "markdown",
      "source": [
        "Without accounting for symmetries the non integrable and the integrable cases look more or less the same!"
      ],
      "metadata": {
        "id": "XWl7y12DuWIj"
      }
    },
    {
      "cell_type": "markdown",
      "source": [
        "**3b.**"
      ],
      "metadata": {
        "id": "gmd4JI3BuhBv"
      }
    },
    {
      "cell_type": "code",
      "source": [
        "def Ham_op_Q0(L):\n",
        "  s0_list, sx_list,sy_list,sz_list = gen_s0sxsysz(L)\n",
        "\n",
        "  delta = 0.5\n",
        "  J1 = 1\n",
        "  J2 = 1\n",
        "\n",
        "  Ham = 0.2 * sz_list[0] #I Inversion symmetry breaking boundary field\n",
        "  HamJ2 = 0.2 * sz_list[0]\n",
        "\n",
        "  for i in range(L):\n",
        "    if i + 1 < L:\n",
        "      Ham += J1 * (sx_list[i] * sx_list[i+1] + sy_list[i] * sy_list[i+1] + delta * sz_list[i] * sz_list[i+1])\n",
        "      HamJ2 += J1 * (sx_list[i] * sx_list[i+1] + sy_list[i] * sy_list[i+1] + delta * sz_list[i] * sz_list[i+1])\n",
        "    if i + 2 < L:\n",
        "      HamJ2 += J2 * (sx_list[i] * sx_list[i+2] + sy_list[i] * sy_list[i+2] + delta * sz_list[i] * sz_list[i+2])\n",
        "\n",
        "\n",
        "  Q = P_totalZ(L,0)\n",
        "  Ham_sector = Q.T * Ham * Q\n",
        "  HamJ2_sector = Q.T * HamJ2 * Q\n",
        "\n",
        "  eigvals = np.linalg.eigvalsh(Ham_sector.toarray())\n",
        "  eigvalsJ2 = np.linalg.eigvalsh(HamJ2_sector.toarray())\n",
        "\n",
        "\n",
        "  return eigvals, eigvalsJ2\n",
        "\n",
        "evals_L8_Q0, evals_L8_J2_Q0 = Ham_op_Q0(8)\n"
      ],
      "metadata": {
        "id": "Cmzb-iAts02T"
      },
      "execution_count": null,
      "outputs": []
    },
    {
      "cell_type": "code",
      "source": [
        "evals_L8_Q0, evals_L8_J2_Q0 = Ham_op_Q0(8)\n",
        "evals_L10_Q0, evals_L10_J2_Q0 = Ham_op_Q0(10)\n",
        "evals_L12_Q0, evals_L12_J2_Q0 = Ham_op_Q0(12)\n",
        "evals_L14_Q0, evals_L14_J2_Q0 = Ham_op_Q0(14)"
      ],
      "metadata": {
        "id": "ReqcKEUButsd"
      },
      "execution_count": null,
      "outputs": []
    },
    {
      "cell_type": "code",
      "source": [
        "fig, ax = plt.subplots(2,2, dpi = 100)\n",
        "fig.set_figwidth(10)\n",
        "fig.set_figheight(8)\n",
        "\n",
        "ax1 = plt.subplot(2, 2, 1)\n",
        "ax2 = plt.subplot(2, 2, 2)\n",
        "ax3 = plt.subplot(2, 2, 3)\n",
        "ax4 = plt.subplot(2, 2, 4)\n",
        "\n",
        "ax1.set_title('L = 8, Q = 0')\n",
        "ax1.hist(get_spacings(evals_L8_Q0), alpha = 0.5, label = 'Integrable', density = True, bins = 20);\n",
        "ax1.hist(get_spacings(evals_L8_J2_Q0), alpha = 0.5, label = 'Non-Integrable', density = True, bins = 20);\n",
        "ax1.legend();\n",
        "ax1.set_ylabel('$P(s)$')\n",
        "\n",
        "ax2.set_title('L = 10, Q = 0')\n",
        "ax2.hist(get_spacings(evals_L10_Q0), alpha = 0.5, label = 'Integrable', density = True, bins = 20);\n",
        "ax2.hist(get_spacings(evals_L10_J2_Q0), alpha = 0.5, label = 'Non-Integrable', density = True, bins = 20);\n",
        "ax2.legend();\n",
        "\n",
        "ax3.set_title('L = 12, Q = 0')\n",
        "ax3.hist(get_spacings(evals_L12_Q0), alpha = 0.5, label = 'Integrable', density = True, bins = 20);\n",
        "ax3.hist(get_spacings(evals_L12_J2_Q0), alpha = 0.5, label = 'Non-Integrable', density = True, bins = 20);\n",
        "ax3.legend();\n",
        "ax3.set_ylabel('$s$')\n",
        "\n",
        "ax4.set_title('L = 14, Q = 0')\n",
        "ax4.hist(get_spacings(evals_L14_Q0), alpha = 0.5, label = 'Integrable', density = True, bins = 20);\n",
        "ax4.hist(get_spacings(evals_L14_J2_Q0), alpha = 0.5, label = 'Non-Integrable', density = True, bins = 20);\n",
        "ax4.legend();"
      ],
      "metadata": {
        "colab": {
          "base_uri": "https://localhost:8080/",
          "height": 699
        },
        "id": "MmLIMmsMu5lp",
        "outputId": "a181fdb7-ce8a-4542-ffac-11d7297e90fc"
      },
      "execution_count": null,
      "outputs": [
        {
          "output_type": "display_data",
          "data": {
            "text/plain": [
              "<Figure size 1000x800 with 4 Axes>"
            ],
            "image/png": "[encoded data removed]"
          },
          "metadata": {}
        }
      ]
    },
    {
      "cell_type": "markdown",
      "source": [
        "Now we can see the difference between the Poissonian and RMT statistics in the level spacings."
      ],
      "metadata": {
        "id": "cuT6SCv-wTvr"
      }
    },
    {
      "cell_type": "markdown",
      "source": [
        "**3c.**"
      ],
      "metadata": {
        "id": "3XW9ybxrwm4m"
      }
    },
    {
      "cell_type": "markdown",
      "source": [
        "Symmetries block-diagonalize Hamiltonians, and there is only repulsion within blocks, not between them. Thus, to see the predictions of RMT in the level repulsion, we need to look within symmetry sectors of the Hamiltonian. Looking in several symmetry sectors at once will obfuscate the repulsion as it did in a).\n",
        "We note that the importance of going into symmetry sectors is because we're studying local (nearest neighbour) level spacing statistics. There exist level spacing diagnostics that probe all length/energy scales. A common example is the spectral form factor, $K(t)= \\sum_{n,m}e^{-i(E_n-E_m)t}$. Here the level repulsion is captured as a linear ramp (in $t$) for a specified time range (when the energies are neither too far apart, nor too close). This linenar ramp shows up whether we are in symmetry sectors or not. (Cheryne Jonay & Nick O'Dea)"
      ],
      "metadata": {
        "id": "4Tp74Yx-woLq"
      }
    },
    {
      "cell_type": "markdown",
      "source": [
        "**3d.**"
      ],
      "metadata": {
        "id": "UVhjcyZnwrkJ"
      }
    },
    {
      "cell_type": "code",
      "source": [
        "L = 14\n",
        "s0_list, sx_list,sy_list,sz_list = gen_s0sxsysz(L)\n",
        "\n",
        "delta = 0.5\n",
        "J1 = 1\n",
        "J2 = 1\n",
        "\n",
        "Ham = 0.2 * sz_list[0] #I Inversion symmetry breaking boundary field\n",
        "HamJ2 = 0.2 * sz_list[0]\n",
        "\n",
        "for i in range(L):\n",
        "  if i + 1 < L:\n",
        "    Ham += J1 * (sx_list[i] * sx_list[i+1] + sy_list[i] * sy_list[i+1] + delta * sz_list[i] * sz_list[i+1])\n",
        "    HamJ2 += J1 * (sx_list[i] * sx_list[i+1] + sy_list[i] * sy_list[i+1] + delta * sz_list[i] * sz_list[i+1])\n",
        "  if i + 2 < L:\n",
        "    HamJ2 += J2 * (sx_list[i] * sx_list[i+2] + sy_list[i] * sy_list[i+2] + delta * sz_list[i] * sz_list[i+2])\n",
        "\n",
        "\n",
        "Q = P_totalZ(L,0)\n",
        "Ham_sector = Q.T * Ham * Q\n",
        "HamJ2_sector = Q.T * HamJ2 * Q\n",
        "\n",
        "\n",
        "evals, eigvecs = np.linalg.eigh(Ham_sector.todense())\n",
        "evalsJ2, eigvecsJ2 = np.linalg.eigh(HamJ2_sector.todense())"
      ],
      "metadata": {
        "id": "53McYTmQvK4G"
      },
      "execution_count": null,
      "outputs": []
    },
    {
      "cell_type": "code",
      "source": [
        "eigvecs.shape"
      ],
      "metadata": {
        "colab": {
          "base_uri": "https://localhost:8080/"
        },
        "id": "OqnoMsJRy-wB",
        "outputId": "9661596b-1417-4b2e-f0b5-0670f55a1cff"
      },
      "execution_count": null,
      "outputs": [
        {
          "output_type": "execute_result",
          "data": {
            "text/plain": [
              "(3432, 3432)"
            ]
          },
          "metadata": {},
          "execution_count": 146
        }
      ]
    },
    {
      "cell_type": "code",
      "source": [
        "O = Q.T * sz_list[L//2] * Q\n",
        "eigvecs_trunc = eigvecs[:,N//2 - 50:N//2 + 50]\n",
        "eigvecsJ2_trunc = eigvecsJ2[:,N//2 - 50:N//2 + 50]\n",
        "\n",
        "O_T = np.conj(eigvecs_trunc.T) @ O.dot(eigvecs_trunc)\n",
        "O_T_J2 = np.conj(eigvecsJ2_trunc.T) @ O.dot(eigvecsJ2_trunc)"
      ],
      "metadata": {
        "id": "nXc9Uj3NxLUf"
      },
      "execution_count": null,
      "outputs": []
    },
    {
      "cell_type": "code",
      "source": [
        "fig, ax = plt.subplots(1,1, dpi = 100)\n",
        "fig.set_figwidth(8)\n",
        "fig.set_figheight(8)\n",
        "\n",
        "ax1 = plt.subplot(1, 1, 1)\n",
        "ax1.hist(O_T.real.flatten().tolist()[0], alpha = 0.5, label = 'Integrable', density = True, bins = 20);\n",
        "ax1.hist(O_T_J2.real.flatten().tolist()[0], alpha = 0.5, label = 'Non-Integrable', density = True, bins = 20);\n",
        "ax1.set_xlabel('$O_{\\\\alpha \\\\beta}$')\n",
        "ax1.set_ylabel('$P(O_{\\\\alpha \\\\beta})$')\n",
        "ax1.legend();"
      ],
      "metadata": {
        "colab": {
          "base_uri": "https://localhost:8080/",
          "height": 700
        },
        "id": "kJBRr8euxX3x",
        "outputId": "d26c63e4-b0ba-42bc-db3a-91645b17345a"
      },
      "execution_count": null,
      "outputs": [
        {
          "output_type": "display_data",
          "data": {
            "text/plain": [
              "<Figure size 800x800 with 1 Axes>"
            ],
            "image/png": "[encoded data removed]"
          },
          "metadata": {}
        }
      ]
    },
    {
      "cell_type": "markdown",
      "source": [
        "As $J_2$ breaks integrability, the system becomes much more well described by the ETH. The matrix elements of the operator look Gaussian and random. When $J_2 = 0$, the large number of conservation laws causes the distribution of matrix elements to become much more sharply peaked."
      ],
      "metadata": {
        "id": "p_TbrhCk3RA6"
      }
    },
    {
      "cell_type": "code",
      "source": [],
      "metadata": {
        "id": "k50NTI-919V-"
      },
      "execution_count": null,
      "outputs": []
    }
  ]
}